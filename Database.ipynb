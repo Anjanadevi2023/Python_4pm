{
 "cells": [
  {
   "cell_type": "code",
   "execution_count": 1,
   "id": "ccde085c",
   "metadata": {},
   "outputs": [
    {
     "name": "stdout",
     "output_type": "stream",
     "text": [
      "Defaulting to user installation because normal site-packages is not writeable\n",
      "Requirement already satisfied: mysql-connector in c:\\users\\user\\appdata\\roaming\\python\\python310\\site-packages (2.2.9)\n"
     ]
    }
   ],
   "source": [
    "!pip install mysql-connector"
   ]
  },
  {
   "cell_type": "code",
   "execution_count": 7,
   "id": "18fbe9f0",
   "metadata": {},
   "outputs": [],
   "source": [
    "import mysql.connector\n",
    "database=mysql.connector.connect(\n",
    "    host=\"localhost\",\n",
    "    user=\"root\",\n",
    "    password=\"\"\n",
    ")\n",
    "db = database.cursor()\n",
    "db.execute(\"CREATE DATABASE pythons111\")"
   ]
  },
  {
   "cell_type": "code",
   "execution_count": 11,
   "id": "bd566664",
   "metadata": {},
   "outputs": [],
   "source": [
    "import mysql.connector  #importing database\n",
    "database=mysql.connector.connect(\n",
    "    host=\"localhost\",\n",
    "    user=\"root\",\n",
    "    password=\"\",\n",
    "    database=\"python_class4pm\"\n",
    ")\n",
    "db = database.cursor()\n"
   ]
  },
  {
   "cell_type": "code",
   "execution_count": 9,
   "id": "2e4fa462",
   "metadata": {},
   "outputs": [],
   "source": [
    " #db.execute(\"CREATE TABLE subject(id INT,name VARCHAR(255))\")"
   ]
  },
  {
   "cell_type": "code",
   "execution_count": 13,
   "id": "b24ff166",
   "metadata": {},
   "outputs": [
    {
     "data": {
      "text/plain": [
       "[(1, 'Ram', 45.0, 0.0, 0.0, 0.0, 0.0, 0.0, 0.0, 'F'),\n",
       " (2, 'Shyam', 70.0, 80.0, 90.0, 91.0, 87.0, 400.0, 90.0, 'A'),\n",
       " (3, 'Ram', 70.0, 60.0, 70.0, 88.0, 80.0, 500.0, 80.0, 'A')]"
      ]
     },
     "execution_count": 13,
     "metadata": {},
     "output_type": "execute_result"
    }
   ],
   "source": [
    "db.execute(\"SELECT * FROM student\")\n",
    "result =db.fetchall()\n",
    "result\n",
    " \n"
   ]
  },
  {
   "cell_type": "code",
   "execution_count": 16,
   "id": "540a0b36",
   "metadata": {},
   "outputs": [
    {
     "data": {
      "text/plain": [
       "[(1, 'Ram', 0.0, 'F'), (2, 'Shyam', 400.0, 'A'), (3, 'Ram', 500.0, 'A')]"
      ]
     },
     "execution_count": 16,
     "metadata": {},
     "output_type": "execute_result"
    }
   ],
   "source": [
    "db.execute(\"SELECT sn,name,total,grade FROM student\")\n",
    "result =db.fetchall()\n",
    "result\n"
   ]
  },
  {
   "cell_type": "code",
   "execution_count": 17,
   "id": "1baaa3f8",
   "metadata": {},
   "outputs": [
    {
     "data": {
      "text/plain": [
       "[(2, 'Shyam', 70.0, 80.0, 90.0, 91.0, 87.0, 400.0, 90.0, 'A'),\n",
       " (3, 'Ram', 70.0, 60.0, 70.0, 88.0, 80.0, 500.0, 80.0, 'A')]"
      ]
     },
     "execution_count": 17,
     "metadata": {},
     "output_type": "execute_result"
    }
   ],
   "source": [
    "db.execute(\"SELECT* FROM student WHERE grade ='A'\")\n",
    "result =db.fetchall()\n",
    "result"
   ]
  },
  {
   "cell_type": "code",
   "execution_count": null,
   "id": "e033e913",
   "metadata": {},
   "outputs": [],
   "source": []
  }
 ],
 "metadata": {
  "kernelspec": {
   "display_name": "Python 3 (ipykernel)",
   "language": "python",
   "name": "python3"
  },
  "language_info": {
   "codemirror_mode": {
    "name": "ipython",
    "version": 3
   },
   "file_extension": ".py",
   "mimetype": "text/x-python",
   "name": "python",
   "nbconvert_exporter": "python",
   "pygments_lexer": "ipython3",
   "version": "3.10.9"
  }
 },
 "nbformat": 4,
 "nbformat_minor": 5
}
