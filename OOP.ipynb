{
 "cells": [
  {
   "cell_type": "code",
   "execution_count": null,
   "id": "914ea6d2",
   "metadata": {},
   "outputs": [],
   "source": [
    "#class <class_name>:\n",
    "#   <methods>\n",
    " \n",
    "# obj=<class_name>\n",
    "    "
   ]
  },
  {
   "cell_type": "code",
   "execution_count": 4,
   "id": "daeff45c",
   "metadata": {},
   "outputs": [
    {
     "name": "stdout",
     "output_type": "stream",
     "text": [
      "Hello World\n"
     ]
    }
   ],
   "source": [
    "class Hello:\n",
    "    print(\"Hello World\")\n",
    "    \n",
    "obj=Hello()    "
   ]
  },
  {
   "cell_type": "code",
   "execution_count": 6,
   "id": "eae65eff",
   "metadata": {},
   "outputs": [
    {
     "name": "stdout",
     "output_type": "stream",
     "text": [
      "Hello World  15\n"
     ]
    }
   ],
   "source": [
    "class Hello:     #class\n",
    "    def add(self,x,y):              #method\n",
    "        print(\"Hello World \", x+y)\n",
    "    \n",
    "obj=Hello()    #object\n",
    "obj.add(10,5)"
   ]
  },
  {
   "cell_type": "code",
   "execution_count": 8,
   "id": "940150cd",
   "metadata": {},
   "outputs": [
    {
     "name": "stdout",
     "output_type": "stream",
     "text": [
      "Hello World\n"
     ]
    }
   ],
   "source": [
    "class Hello:\n",
    "    @staticmethod\n",
    "    def hello():            #method\n",
    "        print(\"Hello World\")\n",
    "Hello().hello()    \n",
    "#obj=Hello()                #object\n",
    "#obj.hello()"
   ]
  },
  {
   "cell_type": "code",
   "execution_count": 12,
   "id": "d3d58954",
   "metadata": {},
   "outputs": [
    {
     "name": "stdout",
     "output_type": "stream",
     "text": [
      "Hello World\n"
     ]
    }
   ],
   "source": [
    "class Hello:\n",
    "    def hello(self,h):          #method\n",
    "        print(h)\n",
    "    \n",
    "obj=Hello()                      #object\n",
    "obj.hello(\"Hello World\")"
   ]
  },
  {
   "cell_type": "code",
   "execution_count": 13,
   "id": "79097050",
   "metadata": {},
   "outputs": [
    {
     "name": "stdout",
     "output_type": "stream",
     "text": [
      "144\n"
     ]
    }
   ],
   "source": [
    "class cal:\n",
    "    def area(self,l,b):\n",
    "        a=l*b\n",
    "        print(a)\n",
    "obj=cal()\n",
    "obj.area(12,12)\n",
    "        "
   ]
  },
  {
   "cell_type": "code",
   "execution_count": 15,
   "id": "b45a1905",
   "metadata": {},
   "outputs": [
    {
     "name": "stdout",
     "output_type": "stream",
     "text": [
      "144\n",
      "7500\n"
     ]
    }
   ],
   "source": [
    "class cal:\n",
    "    def area(self,l,b):\n",
    "        a=l*b\n",
    "        print(a)\n",
    "    def volume(self,l,b,h):\n",
    "        v=l*b*h\n",
    "        print(v)\n",
    "obj=cal()\n",
    "obj.area(12,12)\n",
    "obj.volume(50,10,15)\n",
    "        "
   ]
  },
  {
   "cell_type": "code",
   "execution_count": 16,
   "id": "44f8eba6",
   "metadata": {},
   "outputs": [
    {
     "name": "stdout",
     "output_type": "stream",
     "text": [
      "200\n",
      "6000\n"
     ]
    }
   ],
   "source": [
    "class area:\n",
    "    def area(self,l,b):\n",
    "        a=l*b\n",
    "        print(a)\n",
    "class volume:\n",
    "    def volume(self,l,b,h):\n",
    "        v=l*b*h\n",
    "        print(v)\n",
    "obj1=area()\n",
    "obj1.area(10,20)\n",
    "obj2=volume()\n",
    "obj2.volume(10,20,30)\n",
    "    "
   ]
  },
  {
   "cell_type": "code",
   "execution_count": 4,
   "id": "f3c9da41",
   "metadata": {},
   "outputs": [
    {
     "name": "stdout",
     "output_type": "stream",
     "text": [
      "200\n",
      "1200\n"
     ]
    }
   ],
   "source": [
    "class cal:\n",
    "    def __init__ (self,l,b,h):\n",
    "        self.len=l\n",
    "        self.brd=b\n",
    "        self.ht=h\n",
    "    def area(self):\n",
    "        a=self.len*self.brd\n",
    "        print(a)\n",
    "    def volume(self):\n",
    "        v=self.len*self.brd*self.ht\n",
    "        print(v)\n",
    "obj=cal(10,20,6)\n",
    "obj.area()\n",
    "obj.volume()\n",
    "        \n",
    "    "
   ]
  },
  {
   "cell_type": "code",
   "execution_count": 7,
   "id": "b27d9561",
   "metadata": {},
   "outputs": [
    {
     "name": "stdout",
     "output_type": "stream",
     "text": [
      "600\n",
      "5400\n"
     ]
    }
   ],
   "source": [
    "class cal:\n",
    "    def __init__ (self,l,b):\n",
    "        self.len=l\n",
    "        self.brd=b\n",
    "       \n",
    "    def area(self):\n",
    "        a=self.len*self.brd\n",
    "        print(a)\n",
    "    def volume(self,h):\n",
    "        v=self.len*self.brd*h\n",
    "        print(v)\n",
    "obj=cal(10,60)\n",
    "obj.area()\n",
    "obj.volume(9)"
   ]
  },
  {
   "cell_type": "code",
   "execution_count": 11,
   "id": "a1e0ae2b",
   "metadata": {},
   "outputs": [
    {
     "name": "stdout",
     "output_type": "stream",
     "text": [
      "Ram\n",
      "<class '__main__.information'>\n"
     ]
    }
   ],
   "source": [
    " class information:\n",
    "        def __init__(self):\n",
    "            self.name=\"Ram\"\n",
    "            self.age=45\n",
    "            self.add=\"Kathmandu\"\n",
    "        def __str__(self):           # always string return\n",
    "            return self.name\n",
    "        \n",
    "        \n",
    "    \n",
    "obj = information()        # printing  object\n",
    "print(obj)\n",
    "print(type(obj))           # Because it has return Ram as a object "
   ]
  },
  {
   "cell_type": "code",
   "execution_count": 16,
   "id": "e810b493",
   "metadata": {},
   "outputs": [
    {
     "data": {
      "text/plain": [
       "'Ram'"
      ]
     },
     "execution_count": 16,
     "metadata": {},
     "output_type": "execute_result"
    }
   ],
   "source": [
    "obj. __str__()"
   ]
  },
  {
   "cell_type": "code",
   "execution_count": 17,
   "id": "1e57e639",
   "metadata": {},
   "outputs": [
    {
     "data": {
      "text/plain": [
       "'Ram'"
      ]
     },
     "execution_count": 17,
     "metadata": {},
     "output_type": "execute_result"
    }
   ],
   "source": [
    "str(obj)"
   ]
  },
  {
   "cell_type": "code",
   "execution_count": 18,
   "id": "105b25da",
   "metadata": {},
   "outputs": [
    {
     "name": "stdout",
     "output_type": "stream",
     "text": [
      "Ram\n",
      "Ram\n",
      "45\n",
      "Kathmandu\n"
     ]
    }
   ],
   "source": [
    " class information:\n",
    "        def __init__(self):\n",
    "            self.name=\"Ram\"\n",
    "            self.age=45\n",
    "            self.add=\"Kathmandu\"\n",
    "        def __str__(self):           \n",
    "            return self.name\n",
    "        \n",
    "        \n",
    "    \n",
    "obj = information()        \n",
    "print(obj)\n",
    "print(obj.name)\n",
    "print(obj.age)\n",
    "print(obj.add)"
   ]
  },
  {
   "cell_type": "code",
   "execution_count": 21,
   "id": "391da074",
   "metadata": {},
   "outputs": [
    {
     "name": "stdout",
     "output_type": "stream",
     "text": [
      "Enter the name Ansu\n",
      "Enter the age 9\n",
      "Enter the address Kathmandu\n",
      "Enter the name Aniraj\n",
      "Enter the age 9\n",
      "Enter the address Kathmandu\n",
      "Aniraj\n"
     ]
    }
   ],
   "source": [
    " class information:\n",
    "        def __init__(self,name,age,add):\n",
    "            self.name=input(\"Enter the name \")\n",
    "            self.age=int(input('Enter the age '))\n",
    "            self.add=input(\"Enter the address \")\n",
    "        def __str__(self):           \n",
    "            return self.name\n",
    "        \n",
    "        \n",
    "    \n",
    "name=input(\"Enter the name \")\n",
    "age=int(input('Enter the age '))\n",
    "add=input(\"Enter the address \")\n",
    "\n",
    "obj=information(name,age,add)\n",
    "print(obj)"
   ]
  }
 ],
 "metadata": {
  "kernelspec": {
   "display_name": "Python 3 (ipykernel)",
   "language": "python",
   "name": "python3"
  },
  "language_info": {
   "codemirror_mode": {
    "name": "ipython",
    "version": 3
   },
   "file_extension": ".py",
   "mimetype": "text/x-python",
   "name": "python",
   "nbconvert_exporter": "python",
   "pygments_lexer": "ipython3",
   "version": "3.10.9"
  }
 },
 "nbformat": 4,
 "nbformat_minor": 5
}
