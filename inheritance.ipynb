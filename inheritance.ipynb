{
 "cells": [
  {
   "cell_type": "code",
   "execution_count": 1,
   "id": "e9bb6a35",
   "metadata": {},
   "outputs": [],
   "source": [
    "class A:\n",
    "    pass\n",
    "class B:\n",
    "    pass\n",
    "obj= B()"
   ]
  },
  {
   "cell_type": "code",
   "execution_count": null,
   "id": "f5e0a7fa",
   "metadata": {},
   "outputs": [],
   "source": []
  },
  {
   "cell_type": "code",
   "execution_count": 7,
   "id": "0f5940f8",
   "metadata": {},
   "outputs": [
    {
     "name": "stdout",
     "output_type": "stream",
     "text": [
      "Hello I am Ram. I am from Kathmandu. I am 34.\n"
     ]
    }
   ],
   "source": [
    "class Data:         # Parent class\n",
    "    def __init__(self):\n",
    "        self.name=\"Ram\"\n",
    "        self.age= 34\n",
    "        self.add =\"Kathmandu\"\n",
    "        \n",
    "class Information(Data) :     # child class\n",
    "    def info(self):\n",
    "        print(f\"Hello I am {self.name}. I am from {self.add}. I am {self.age}.\")\n",
    "obj = Information()\n",
    "obj.info()\n",
    "        "
   ]
  },
  {
   "cell_type": "code",
   "execution_count": 9,
   "id": "c68d4e15",
   "metadata": {},
   "outputs": [
    {
     "name": "stdout",
     "output_type": "stream",
     "text": [
      "Hello I am Ram. I am from Kathmandu. I am 34.\n"
     ]
    }
   ],
   "source": [
    "class Data:         # Parent class\n",
    "    def __init__(self, name,age,add):\n",
    "        self.name= name\n",
    "        self.age= age\n",
    "        self.add = add\n",
    "        \n",
    "class Information(Data) :     # child class\n",
    "    def info(self):\n",
    "        print(f\"Hello I am {self.name}. I am from {self.add}. I am {self.age}.\")\n",
    "obj = Information(\"Ram\", 34, \"Kathmandu\")\n",
    "obj.info()"
   ]
  },
  {
   "cell_type": "code",
   "execution_count": 18,
   "id": "99e095f0",
   "metadata": {},
   "outputs": [
    {
     "name": "stdout",
     "output_type": "stream",
     "text": [
      "Hello I am Ram. I am from Kathmandu. I am 34.My phone number is 9849150655.\n"
     ]
    }
   ],
   "source": [
    "class Data:         # Parent class\n",
    "    def __init__(self, name,age,add):\n",
    "        self.name= name\n",
    "        self.age= age\n",
    "        self.add = add\n",
    "        \n",
    "class Information(Data) :     # child class\n",
    "    def __init__(self,name,age,add,phone):\n",
    "        Data.__init__(self,name,age,add)\n",
    "        self.phone=phone               \n",
    "    def info(self):\n",
    "        print(f\"Hello I am {self.name}. I am from {self.add}. I am {self.age}.My phone number is {self.phone}.\")\n",
    "obj = Information(\"Ram\", 34, \"Kathmandu\", 9849150655)\n",
    "obj.info()"
   ]
  },
  {
   "cell_type": "code",
   "execution_count": 19,
   "id": "f93d071e",
   "metadata": {},
   "outputs": [],
   "source": [
    "# multi level\n",
    "class A:\n",
    "    pass\n",
    "class B(A):\n",
    "    pass\n",
    "class C(B):\n",
    "    pass\n",
    "obj=C()\n"
   ]
  },
  {
   "cell_type": "code",
   "execution_count": 20,
   "id": "c742579a",
   "metadata": {},
   "outputs": [],
   "source": [
    "# multi class\n",
    "class A:\n",
    "    pass\n",
    "class B:\n",
    "    pass\n",
    "class C(A,B):\n",
    "    pass\n",
    "obj=C()"
   ]
  },
  {
   "cell_type": "code",
   "execution_count": 36,
   "id": "3db7fd7d",
   "metadata": {},
   "outputs": [
    {
     "ename": "AttributeError",
     "evalue": "'Information' object has no attribute 'add'",
     "output_type": "error",
     "traceback": [
      "\u001b[1;31m---------------------------------------------------------------------------\u001b[0m",
      "\u001b[1;31mAttributeError\u001b[0m                            Traceback (most recent call last)",
      "Cell \u001b[1;32mIn[36], line 20\u001b[0m\n\u001b[0;32m     18\u001b[0m         \u001b[38;5;28mprint\u001b[39m(\u001b[38;5;124mf\u001b[39m\u001b[38;5;124m\"\u001b[39m\u001b[38;5;124mHello I am \u001b[39m\u001b[38;5;132;01m{\u001b[39;00m\u001b[38;5;28mself\u001b[39m\u001b[38;5;241m.\u001b[39mname\u001b[38;5;132;01m}\u001b[39;00m\u001b[38;5;124m. I am from \u001b[39m\u001b[38;5;132;01m{\u001b[39;00m\u001b[38;5;28mself\u001b[39m\u001b[38;5;241m.\u001b[39madd\u001b[38;5;132;01m}\u001b[39;00m\u001b[38;5;124m. I am \u001b[39m\u001b[38;5;132;01m{\u001b[39;00m\u001b[38;5;28mself\u001b[39m\u001b[38;5;241m.\u001b[39mage\u001b[38;5;132;01m}\u001b[39;00m\u001b[38;5;124m.My phone number is \u001b[39m\u001b[38;5;132;01m{\u001b[39;00m\u001b[38;5;28mself\u001b[39m\u001b[38;5;241m.\u001b[39mphone\u001b[38;5;132;01m}\u001b[39;00m\u001b[38;5;124m.\u001b[39m\u001b[38;5;124m\"\u001b[39m)\n\u001b[0;32m     19\u001b[0m obj \u001b[38;5;241m=\u001b[39m Information(\u001b[38;5;124m\"\u001b[39m\u001b[38;5;124mRam\u001b[39m\u001b[38;5;124m\"\u001b[39m, \u001b[38;5;241m34\u001b[39m, \u001b[38;5;124m\"\u001b[39m\u001b[38;5;124mKathmandu\u001b[39m\u001b[38;5;124m\"\u001b[39m, \u001b[38;5;241m9849150655\u001b[39m)\n\u001b[1;32m---> 20\u001b[0m \u001b[43mobj\u001b[49m\u001b[38;5;241;43m.\u001b[39;49m\u001b[43minfo\u001b[49m\u001b[43m(\u001b[49m\u001b[43m)\u001b[49m\n",
      "Cell \u001b[1;32mIn[36], line 18\u001b[0m, in \u001b[0;36mInformation.info\u001b[1;34m(self)\u001b[0m\n\u001b[0;32m     17\u001b[0m \u001b[38;5;28;01mdef\u001b[39;00m \u001b[38;5;21minfo\u001b[39m(\u001b[38;5;28mself\u001b[39m):\n\u001b[1;32m---> 18\u001b[0m     \u001b[38;5;28mprint\u001b[39m(\u001b[38;5;124mf\u001b[39m\u001b[38;5;124m\"\u001b[39m\u001b[38;5;124mHello I am \u001b[39m\u001b[38;5;132;01m{\u001b[39;00m\u001b[38;5;28mself\u001b[39m\u001b[38;5;241m.\u001b[39mname\u001b[38;5;132;01m}\u001b[39;00m\u001b[38;5;124m. I am from \u001b[39m\u001b[38;5;132;01m{\u001b[39;00m\u001b[38;5;28mself\u001b[39m\u001b[38;5;241m.\u001b[39madd\u001b[38;5;132;01m}\u001b[39;00m\u001b[38;5;124m. I am \u001b[39m\u001b[38;5;132;01m{\u001b[39;00m\u001b[38;5;28mself\u001b[39m\u001b[38;5;241m.\u001b[39mage\u001b[38;5;132;01m}\u001b[39;00m\u001b[38;5;124m.My phone number is \u001b[39m\u001b[38;5;132;01m{\u001b[39;00m\u001b[38;5;28mself\u001b[39m\u001b[38;5;241m.\u001b[39mphone\u001b[38;5;132;01m}\u001b[39;00m\u001b[38;5;124m.\u001b[39m\u001b[38;5;124m\"\u001b[39m)\n",
      "\u001b[1;31mAttributeError\u001b[0m: 'Information' object has no attribute 'add'"
     ]
    }
   ],
   "source": [
    "#multi level\n",
    "class Details:\n",
    "    def __init__(self,add):\n",
    "        self.add=add\n",
    "        Details.__init__(self.add)\n",
    "        \n",
    "class Data(Details):         # Parent class\n",
    "    def __init__(self, name,age,add):\n",
    "        self.name= name\n",
    "        self.age= age\n",
    "        \n",
    "        \n",
    "class Information(Data):     # child class\n",
    "    def __init__(self,name,age,add,phone):\n",
    "        Data.__init__(self,name,age,add)\n",
    "        self.phone=phone               \n",
    "    def info(self):\n",
    "        print(f\"Hello I am {self.name}. I am from {self.add}. I am {self.age}.My phone number is {self.phone}.\")\n",
    "obj = Information(\"Ram\", 34, \"Kathmandu\", 9849150655)\n",
    "obj.info()"
   ]
  },
  {
   "cell_type": "code",
   "execution_count": 34,
   "id": "0474d6ec",
   "metadata": {},
   "outputs": [
    {
     "name": "stdout",
     "output_type": "stream",
     "text": [
      "Hello I am Ram. I am from Kathmandu. I am 34. My phone number is 9849150655.\n"
     ]
    }
   ],
   "source": [
    "#Multilevel\n",
    "class Details:\n",
    "    def __init__(self):\n",
    "        self.add=\"Kathmandu\"\n",
    "        \n",
    "class Data(Details):         # Parent class\n",
    "    def __init__(self):\n",
    "        self.name= \"Ram\"\n",
    "        self.age= 34\n",
    "        Details.__init__(self)\n",
    "        \n",
    "        \n",
    "class Information(Data):     # child class\n",
    "    def __init__(self):\n",
    "        self.phone=9849150655\n",
    "        Data.__init__(self)\n",
    "        \n",
    "        \n",
    "    def info(self):\n",
    "        print(f\"Hello I am {self.name}. I am from {self.add}. I am {self.age}. My phone number is {self.phone}.\")\n",
    "obj = Information()\n",
    "obj.info()"
   ]
  },
  {
   "cell_type": "code",
   "execution_count": 37,
   "id": "e049e06b",
   "metadata": {},
   "outputs": [
    {
     "name": "stdout",
     "output_type": "stream",
     "text": [
      "Hello I am Ram. I am from Kathmandu. I am 34. My phone number is 9849150655.\n"
     ]
    }
   ],
   "source": [
    "#Multi Class\n",
    "class Details:\n",
    "    def __init__(self):\n",
    "        self.add=\"Kathmandu\"\n",
    "        \n",
    "class Data(Details):         # Parent class\n",
    "    def __init__(self):\n",
    "        self.name= \"Ram\"\n",
    "        self.age= 34\n",
    "        \n",
    "        \n",
    "        \n",
    "class Information(Data):     # child class\n",
    "    def __init__(self):\n",
    "        self.phone=9849150655\n",
    "        Data.__init__(self)\n",
    "        Details.__init__(self)\n",
    "        \n",
    "        \n",
    "    def info(self):\n",
    "        print(f\"Hello I am {self.name}. I am from {self.add}. I am {self.age}. My phone number is {self.phone}.\")\n",
    "obj = Information()\n",
    "obj.info()"
   ]
  },
  {
   "cell_type": "code",
   "execution_count": 2,
   "id": "40aa96c5",
   "metadata": {},
   "outputs": [
    {
     "name": "stdout",
     "output_type": "stream",
     "text": [
      "Ram\n",
      "34\n",
      "Kathmandu\n"
     ]
    }
   ],
   "source": [
    "#Public\n",
    "class Info:\n",
    "    def __init__(self):\n",
    "        self.name=\"Ram\"\n",
    "        self.age=34\n",
    "        self.add=\"Kathmandu\"\n",
    "obj=Info()    \n",
    "print(obj.name)\n",
    "print(obj.age)\n",
    "print(obj.add)\n",
    "        "
   ]
  },
  {
   "cell_type": "code",
   "execution_count": 3,
   "id": "c49bfac0",
   "metadata": {},
   "outputs": [
    {
     "name": "stdout",
     "output_type": "stream",
     "text": [
      "Ram\n",
      "34\n",
      "Kathmandu\n"
     ]
    }
   ],
   "source": [
    "# Pr\n",
    "class Info:\n",
    "    def __init__(self):\n",
    "        self._name=\"Ram\"      #private\n",
    "        self._age=34           #private \n",
    "        self._add=\"Kathmandu\"   #private\n",
    "obj=Info()    \n",
    "print(obj.name)\n",
    "print(obj.age)\n",
    "print(obj.add)\n",
    "        "
   ]
  },
  {
   "cell_type": "code",
   "execution_count": 7,
   "id": "ea6ad8e6",
   "metadata": {},
   "outputs": [
    {
     "ename": "AttributeError",
     "evalue": "'Information' object has no attribute 'add'",
     "output_type": "error",
     "traceback": [
      "\u001b[1;31m---------------------------------------------------------------------------\u001b[0m",
      "\u001b[1;31mAttributeError\u001b[0m                            Traceback (most recent call last)",
      "Cell \u001b[1;32mIn[7], line 11\u001b[0m\n\u001b[0;32m      9\u001b[0m         \u001b[38;5;28mprint\u001b[39m(\u001b[38;5;124mf\u001b[39m\u001b[38;5;124m\"\u001b[39m\u001b[38;5;124mHello I am \u001b[39m\u001b[38;5;132;01m{\u001b[39;00m\u001b[38;5;28mself\u001b[39m\u001b[38;5;241m.\u001b[39mname\u001b[38;5;132;01m}\u001b[39;00m\u001b[38;5;124m. I am from \u001b[39m\u001b[38;5;132;01m{\u001b[39;00m\u001b[38;5;28mself\u001b[39m\u001b[38;5;241m.\u001b[39madd\u001b[38;5;132;01m}\u001b[39;00m\u001b[38;5;124m. I am \u001b[39m\u001b[38;5;132;01m{\u001b[39;00m\u001b[38;5;28mself\u001b[39m\u001b[38;5;241m.\u001b[39mage\u001b[38;5;132;01m}\u001b[39;00m\u001b[38;5;124m.\u001b[39m\u001b[38;5;124m\"\u001b[39m)\n\u001b[0;32m     10\u001b[0m obj \u001b[38;5;241m=\u001b[39m Information(\u001b[38;5;124m\"\u001b[39m\u001b[38;5;124mRam\u001b[39m\u001b[38;5;124m\"\u001b[39m, \u001b[38;5;241m34\u001b[39m, \u001b[38;5;124m\"\u001b[39m\u001b[38;5;124mKathmandu\u001b[39m\u001b[38;5;124m\"\u001b[39m)\n\u001b[1;32m---> 11\u001b[0m \u001b[43mobj\u001b[49m\u001b[38;5;241;43m.\u001b[39;49m\u001b[43minfo\u001b[49m\u001b[43m(\u001b[49m\u001b[43m)\u001b[49m\n\u001b[0;32m     12\u001b[0m \u001b[38;5;28mprint\u001b[39m(obj\u001b[38;5;241m.\u001b[39mname)\n",
      "Cell \u001b[1;32mIn[7], line 9\u001b[0m, in \u001b[0;36mInformation.info\u001b[1;34m(self)\u001b[0m\n\u001b[0;32m      8\u001b[0m \u001b[38;5;28;01mdef\u001b[39;00m \u001b[38;5;21minfo\u001b[39m(\u001b[38;5;28mself\u001b[39m):\n\u001b[1;32m----> 9\u001b[0m     \u001b[38;5;28mprint\u001b[39m(\u001b[38;5;124mf\u001b[39m\u001b[38;5;124m\"\u001b[39m\u001b[38;5;124mHello I am \u001b[39m\u001b[38;5;132;01m{\u001b[39;00m\u001b[38;5;28mself\u001b[39m\u001b[38;5;241m.\u001b[39mname\u001b[38;5;132;01m}\u001b[39;00m\u001b[38;5;124m. I am from \u001b[39m\u001b[38;5;132;01m{\u001b[39;00m\u001b[38;5;28mself\u001b[39m\u001b[38;5;241m.\u001b[39madd\u001b[38;5;132;01m}\u001b[39;00m\u001b[38;5;124m. I am \u001b[39m\u001b[38;5;132;01m{\u001b[39;00m\u001b[38;5;28mself\u001b[39m\u001b[38;5;241m.\u001b[39mage\u001b[38;5;132;01m}\u001b[39;00m\u001b[38;5;124m.\u001b[39m\u001b[38;5;124m\"\u001b[39m)\n",
      "\u001b[1;31mAttributeError\u001b[0m: 'Information' object has no attribute 'add'"
     ]
    }
   ],
   "source": [
    "class Data:         # Parent class\n",
    "    def __init__(self, name,age,add):\n",
    "        self.name= name\n",
    "        self.age= age\n",
    "        self.__add = add\n",
    "        \n",
    "class Information(Data) :\n",
    "    def info(self):\n",
    "        print(f\"Hello I am {self.name}. I am from {self.add}. I am {self.age}.\")\n",
    "obj = Information(\"Ram\", 34, \"Kathmandu\")\n",
    "obj.info()\n",
    "print(obj.name)"
   ]
  }
 ],
 "metadata": {
  "kernelspec": {
   "display_name": "Python 3 (ipykernel)",
   "language": "python",
   "name": "python3"
  },
  "language_info": {
   "codemirror_mode": {
    "name": "ipython",
    "version": 3
   },
   "file_extension": ".py",
   "mimetype": "text/x-python",
   "name": "python",
   "nbconvert_exporter": "python",
   "pygments_lexer": "ipython3",
   "version": "3.10.9"
  }
 },
 "nbformat": 4,
 "nbformat_minor": 5
}
